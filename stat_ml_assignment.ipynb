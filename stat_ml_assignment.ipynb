{
  "nbformat": 4,
  "nbformat_minor": 0,
  "metadata": {
    "colab": {
      "provenance": [],
      "collapsed_sections": []
    },
    "kernelspec": {
      "name": "python3",
      "display_name": "Python 3"
    },
    "language_info": {
      "name": "python"
    }
  },
  "cells": [
    {
      "cell_type": "code",
      "execution_count": 14,
      "metadata": {
        "id": "lKpt8gqU_sJG",
        "colab": {
          "base_uri": "https://localhost:8080/",
          "height": 312
        },
        "outputId": "8b7ae46b-1c14-449f-87ef-3f090a4a9c24"
      },
      "outputs": [
        {
          "output_type": "stream",
          "name": "stdout",
          "text": [
            "the least mean square error is 6448324939.318334 and the m and c values are 99\n"
          ]
        },
        {
          "output_type": "display_data",
          "data": {
            "text/plain": [
              "<Figure size 432x288 with 1 Axes>"
            ],
            "image/png": "[encoded data removed]"
          },
          "metadata": {
            "needs_background": "light"
          }
        }
      ],
      "source": [
        "import pandas as pd\n",
        "import numpy as np\n",
        "import matplotlib.pyplot as pt\n",
        "d=pd.read_csv(\"Salary_Data (3).csv\")\n",
        "dl=d.fillna(0)\n",
        "m,c=0,0\n",
        "yearl=dl['YearsExperience']\n",
        "salaryl=dl['Salary']\n",
        "year=np.array(yearl)\n",
        "salary=np.array(salaryl)\n",
        "mse=[]\n",
        "me=[]\n",
        "yp=np.array(yearl)\n",
        "def linear(m,c):\n",
        "    yp=m*year+c\n",
        "    mse.append(np.square(np.subtract(salary,yp)))\n",
        "    me.append(np.mean(mse))\n",
        "for i in range(0,100):\n",
        "  linear(m+i,c+i)\n",
        "a=np.arange(0,100)\n",
        "pt.plot(a,me,color=\"red\")\n",
        "pt.scatter(a,me,color=\"red\")\n",
        "pt.title(\"salary graph\")\n",
        "pt.xlabel(\"year\")\n",
        "pt.ylabel(\"salary\")\n",
        "print(\"the least mean square error is\",min(me),\"and the m and c values are\",me.index(min(me)))"
      ]
    },
    {
      "cell_type": "code",
      "source": [
        "import numpy as np\n",
        "a=np.array([1,2,3,4])\n",
        "b=np.array([5,6,7,8])\n",
        "print(a+b)"
      ],
      "metadata": {
        "colab": {
          "base_uri": "https://localhost:8080/"
        },
        "id": "FzkCKvJL0yxF",
        "outputId": "80958b5e-17b1-48ca-9ac2-4db8bc2745bc"
      },
      "execution_count": null,
      "outputs": [
        {
          "output_type": "stream",
          "name": "stdout",
          "text": [
            "[ 6  8 10 12]\n"
          ]
        }
      ]
    },
    {
      "cell_type": "code",
      "source": [],
      "metadata": {
        "id": "gdTM8Lc104Nv"
      },
      "execution_count": null,
      "outputs": []
    },
    {
      "cell_type": "code",
      "source": [],
      "metadata": {
        "id": "NCUmstt504a3"
      },
      "execution_count": null,
      "outputs": []
    }
  ]
}